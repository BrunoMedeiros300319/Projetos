{
 "cells": [
  {
   "cell_type": "markdown",
   "metadata": {
    "id": "xQUx2lklJ4UT"
   },
   "source": [
    "# **Python para Análise de Dados ( PANDAS )**\n",
    "\n",
    "Iremos trabalhar com base nos dados do corona vírus, através de um arquivo CSV que obtive no site: https://covid.saude.gov.br/\n"
   ]
  },
  {
   "cell_type": "code",
   "execution_count": 1,
   "metadata": {
    "id": "EIvXmE4_L8op"
   },
   "outputs": [],
   "source": [
    "# Importando o Pandas\n",
    "import pandas as pd"
   ]
  },
  {
   "cell_type": "code",
   "execution_count": 2,
   "metadata": {
    "id": "FlBdsKAXKN_V"
   },
   "outputs": [],
   "source": [
    "arquivo = '/Users/bruno/HIST_PAINEL_COVIDBR_27out2020.csv'\n",
    "dataset = pd.read_csv(arquivo, sep=';', header=0 )"
   ]
  },
  {
   "cell_type": "code",
   "execution_count": null,
   "metadata": {
    "colab": {
     "base_uri": "https://localhost:8080/",
     "height": 34
    },
    "id": "V8YAUPrHN4yi",
    "outputId": "d920e33b-ea64-4855-87f9-b159192f5344"
   },
   "outputs": [],
   "source": [
    "# Imprimindo o tipo da variável dataset\n",
    "# Dataframe é uma estrutura de dados onde linhas podem podem ter colunas de diferentes tipos.\n",
    "type(dataset)"
   ]
  },
  {
   "cell_type": "code",
   "execution_count": null,
   "metadata": {
    "colab": {
     "base_uri": "https://localhost:8080/",
     "height": 340
    },
    "id": "joWgzma_NPH-",
    "outputId": "02a71503-3f16-4b30-bc7e-083ed2e1f5ec"
   },
   "outputs": [],
   "source": [
    "# Método head() imprime as 5 primeiras linhas do Dataframe.\n",
    "dataset.head()"
   ]
  },
  {
   "cell_type": "code",
   "execution_count": null,
   "metadata": {
    "id": "UnjPZSXlNTgV"
   },
   "outputs": [],
   "source": [
    "# O parâmetro index_col informa a coluna na qual o DataFrame será indexado, que nesse caso é a coluna 'data'.\n",
    "dataset = pd.read_csv(arquivo, sep=';',index_col = 'data')"
   ]
  },
  {
   "cell_type": "code",
   "execution_count": 3,
   "metadata": {
    "id": "1nhRjTCJOea0"
   },
   "outputs": [],
   "source": [
    "# O parâmetro usecols é utilizado para filtrarmos apenas as colunas que vamos trabalhar em nossa análise de dados\n",
    "dataset = pd.read_csv(arquivo, sep=';', usecols = ['data','estado','semanaEpi','casosAcumulado','casosNovos','obitosAcumulado','obitosNovos','Recuperadosnovos','emAcompanhamentoNovos'])"
   ]
  },
  {
   "cell_type": "code",
   "execution_count": null,
   "metadata": {
    "colab": {
     "base_uri": "https://localhost:8080/",
     "height": 359
    },
    "id": "E4u2TuLiPdVc",
    "outputId": "a4447b3c-6e3b-42b8-afbc-3070c880ed4d"
   },
   "outputs": [],
   "source": [
    "# No método head() podemos informar o número de linhas que queremos imprimir, caso não seja informado, a quantidade padrão é de 5 linhas como mostrado anteriormente.\n",
    "dataset.head(10)"
   ]
  },
  {
   "cell_type": "code",
   "execution_count": null,
   "metadata": {
    "colab": {
     "base_uri": "https://localhost:8080/",
     "height": 85
    },
    "id": "HVTeps6-UR1z",
    "outputId": "a40434c1-6743-4ce9-c091-dccf81dccc14"
   },
   "outputs": [],
   "source": [
    "# Informa as colunas do dataset\n",
    "dataset.columns"
   ]
  },
  {
   "cell_type": "code",
   "execution_count": null,
   "metadata": {
    "colab": {
     "base_uri": "https://localhost:8080/",
     "height": 187
    },
    "id": "ng9Cl0DsVh4W",
    "outputId": "d5d8a497-d64d-4f46-8f80-adb3cfc22670"
   },
   "outputs": [],
   "source": [
    "# O método count() retorna a quantidade de linhas de todas as colunas.\n",
    "dataset.count()"
   ]
  },
  {
   "cell_type": "code",
   "execution_count": null,
   "metadata": {
    "colab": {
     "base_uri": "https://localhost:8080/",
     "height": 297
    },
    "id": "dog4LQV_VwIP",
    "outputId": "3a2b7327-22f6-42bf-f90e-a88184a9180e"
   },
   "outputs": [],
   "source": [
    "# O método describe() exibe informações estatísticas da base de dados.\n",
    "# Informações importates que pode ajudar na análise dos dados como, desvio padrão, média, valor mínimo e valor máximo das colunas.\n",
    "dataset.describe()"
   ]
  },
  {
   "cell_type": "code",
   "execution_count": null,
   "metadata": {
    "colab": {
     "base_uri": "https://localhost:8080/",
     "height": 204
    },
    "id": "bUkdw6tFV0qf",
    "outputId": "6d1912bd-58f5-45a7-f7e7-545424a1b9ca"
   },
   "outputs": [],
   "source": [
    "# Imprime por padrão as 5 últimas linhas do dataset, caso queira outra quantidade é só colocar no parâmetro, dataset.tail(10) por exemplo.\n",
    "dataset.tail(15)"
   ]
  },
  {
   "cell_type": "code",
   "execution_count": null,
   "metadata": {
    "colab": {
     "base_uri": "https://localhost:8080/",
     "height": 204
    },
    "id": "T3KXno30V5oX",
    "outputId": "9a44e44f-8196-4729-db69-93282e3327f4"
   },
   "outputs": [],
   "source": [
    "# Imprime uma amostra aleatória do dataset.\n",
    "dataset.sample(50)"
   ]
  },
  {
   "cell_type": "code",
   "execution_count": null,
   "metadata": {
    "colab": {
     "base_uri": "https://localhost:8080/",
     "height": 34
    },
    "id": "FgTeuGq-WRLn",
    "outputId": "0230c78b-afdc-4864-8794-31655f59206c"
   },
   "outputs": [],
   "source": [
    "# Retorna em formato de tupla a quantidade de linhas e colunas do dataset.\n",
    "dataset.shape"
   ]
  },
  {
   "cell_type": "code",
   "execution_count": null,
   "metadata": {
    "colab": {
     "base_uri": "https://localhost:8080/",
     "height": 289
    },
    "id": "gppWWciSWnAP",
    "outputId": "7e6e0216-7e7b-49ee-a565-e5a10f6c67ed"
   },
   "outputs": [],
   "source": [
    "# Imprime informações sobre as colunas e uso de memória.\n",
    "dataset.info()"
   ]
  },
  {
   "cell_type": "markdown",
   "metadata": {},
   "source": [
    "# Consultando um dataFrame"
   ]
  },
  {
   "cell_type": "code",
   "execution_count": null,
   "metadata": {},
   "outputs": [],
   "source": [
    "#Conta a quantidade de valores únicos\n",
    "pd.value_counts(dataset['estado'])"
   ]
  },
  {
   "cell_type": "code",
   "execution_count": null,
   "metadata": {},
   "outputs": [],
   "source": [
    "#O método loc() é usado para visualizar informações do dataset\n",
    "dataset.loc[dataset['estado']=='PE']"
   ]
  },
  {
   "cell_type": "code",
   "execution_count": null,
   "metadata": {},
   "outputs": [],
   "source": [
    "# Utilizando o método loc() com o operador &\n",
    "dataset.loc[(dataset['estado']=='PE') & (dataset['obitosNovos']>100)]"
   ]
  },
  {
   "cell_type": "code",
   "execution_count": null,
   "metadata": {},
   "outputs": [],
   "source": [
    "# O método sort_values() ordena um dataset pela coluna desejada\n",
    "dataset.sort_values(by='data', ascending=False)"
   ]
  },
  {
   "cell_type": "code",
   "execution_count": null,
   "metadata": {},
   "outputs": [],
   "source": [
    "# O método count() é usado para contar o número de linhas de uma query.\n",
    "dataset[dataset['estado']=='PE'].count()"
   ]
  },
  {
   "cell_type": "code",
   "execution_count": null,
   "metadata": {},
   "outputs": [],
   "source": []
  },
  {
   "cell_type": "markdown",
   "metadata": {},
   "source": [
    "# Alterando Dataframe"
   ]
  },
  {
   "cell_type": "code",
   "execution_count": null,
   "metadata": {},
   "outputs": [],
   "source": [
    "dataset.info()"
   ]
  },
  {
   "cell_type": "code",
   "execution_count": null,
   "metadata": {},
   "outputs": [],
   "source": [
    "# Alterando o tipo de object para DateTime\n",
    "dataset['data'] =  pd.to_datetime(dataset['data'])"
   ]
  },
  {
   "cell_type": "code",
   "execution_count": null,
   "metadata": {},
   "outputs": [],
   "source": [
    "# Adicionando uma nova coluna coluna ao dataset\n",
    "dataset['mes'] = dataset['data'].dt.month"
   ]
  },
  {
   "cell_type": "code",
   "execution_count": null,
   "metadata": {},
   "outputs": [],
   "source": [
    "# Visualizando o conteúdo da coluna criada\n",
    "dataset['mes'].head()"
   ]
  },
  {
   "cell_type": "code",
   "execution_count": null,
   "metadata": {},
   "outputs": [],
   "source": [
    "# Visualizando a nova coluna criada\n",
    "dataset['mes']"
   ]
  },
  {
   "cell_type": "code",
   "execution_count": null,
   "metadata": {},
   "outputs": [],
   "source": [
    "#Criando uma funcão para processamento de dados\n",
    "def mes(i):\n",
    "    if i == 1:\n",
    "        return 'Janeiro'\n",
    "    elif i == 2:\n",
    "        return 'Fevereiro'\n",
    "    elif i == 3:\n",
    "        return 'Março'\n",
    "    elif i == 4:\n",
    "        return 'Abril'\n",
    "    elif i == 5:\n",
    "        return 'Maio'\n",
    "    elif i == 6:\n",
    "        return 'Junho'\n",
    "    elif i == 7:\n",
    "        return 'Julho'\n",
    "    elif i == 8:\n",
    "        return 'Agosto'\n",
    "    elif i == 9:\n",
    "        return 'Setembro'\n",
    "    elif i == 10:\n",
    "        return 'outubro'\n",
    "    elif i == 11:\n",
    "        return 'Novembro'\n",
    "    elif i == 12:\n",
    "        return 'Dezembro'"
   ]
  },
  {
   "cell_type": "code",
   "execution_count": null,
   "metadata": {},
   "outputs": [],
   "source": [
    "#Criando uma nova coluna a partir do processamento realizado\n",
    "dataset['descricao_mes'] = dataset['mes'].apply(mes)"
   ]
  },
  {
   "cell_type": "code",
   "execution_count": null,
   "metadata": {},
   "outputs": [],
   "source": [
    "#Visualizando a nova coluna criada.\n",
    "dataset['descricao_mes'].head()"
   ]
  },
  {
   "cell_type": "code",
   "execution_count": null,
   "metadata": {},
   "outputs": [],
   "source": [
    "# Ver a distribuição da coluna com o método value_counts. \n",
    "pd.value_counts(dataset['descricao_mes'])"
   ]
  },
  {
   "cell_type": "code",
   "execution_count": null,
   "metadata": {},
   "outputs": [],
   "source": [
    "# O método drop é usado para excluir dados do dataframe.\n",
    "# A opção axis=1 define que queremos excluir uma coluna e não uma linha.\n",
    "# O parâmetro inplace define que a alteração irá modificar o objeto em memória.\n",
    "dataset.drop(['mes'], axis=1, inplace=True)"
   ]
  },
  {
   "cell_type": "code",
   "execution_count": null,
   "metadata": {},
   "outputs": [],
   "source": [
    "# Apagando linhas baseado em condições lógicas!\n",
    "dataset.drop(dataset[dataset.descricao_mes == 'Agosto'].index , inplace=True)"
   ]
  },
  {
   "cell_type": "code",
   "execution_count": null,
   "metadata": {},
   "outputs": [],
   "source": [
    "dataset.head()"
   ]
  },
  {
   "cell_type": "markdown",
   "metadata": {},
   "source": [
    "# Percorrendo linhas em um dataframe\n",
    "\n",
    "-Método iterrows() permite percorrer por todas as linhas de um dataframe\n"
   ]
  },
  {
   "cell_type": "code",
   "execution_count": 11,
   "metadata": {},
   "outputs": [
    {
     "data": {
      "text/plain": [
       "generator"
      ]
     },
     "execution_count": 11,
     "metadata": {},
     "output_type": "execute_result"
    }
   ],
   "source": [
    "type(dataset.iterrows())"
   ]
  },
  {
   "cell_type": "code",
   "execution_count": 12,
   "metadata": {},
   "outputs": [
    {
     "data": {
      "text/plain": [
       "(0,\n",
       " estado                          NaN\n",
       " data                     2020-02-25\n",
       " semanaEpi                         9\n",
       " casosAcumulado                    0\n",
       " casosNovos                        0\n",
       " obitosAcumulado                   0\n",
       " obitosNovos                       0\n",
       " Recuperadosnovos                NaN\n",
       " emAcompanhamentoNovos           NaN\n",
       " Name: 0, dtype: object)"
      ]
     },
     "execution_count": 12,
     "metadata": {},
     "output_type": "execute_result"
    }
   ],
   "source": [
    "# Imprime a primeira linha do objeto iterator\n",
    "next(dataset.iterrows())"
   ]
  },
  {
   "cell_type": "code",
   "execution_count": 14,
   "metadata": {},
   "outputs": [
    {
     "name": "stdout",
     "output_type": "stream",
     "text": [
      "0 estado                          NaN\n",
      "data                     2020-02-25\n",
      "semanaEpi                         9\n",
      "casosAcumulado                    0\n",
      "casosNovos                        0\n",
      "obitosAcumulado                   0\n",
      "obitosNovos                       0\n",
      "Recuperadosnovos                NaN\n",
      "emAcompanhamentoNovos           NaN\n",
      "Name: 0, dtype: object\n",
      "1 estado                          NaN\n",
      "data                     2020-02-26\n",
      "semanaEpi                         9\n",
      "casosAcumulado                    1\n",
      "casosNovos                        1\n",
      "obitosAcumulado                   0\n",
      "obitosNovos                       0\n",
      "Recuperadosnovos                NaN\n",
      "emAcompanhamentoNovos           NaN\n",
      "Name: 1, dtype: object\n",
      "2 estado                          NaN\n",
      "data                     2020-02-27\n",
      "semanaEpi                         9\n",
      "casosAcumulado                    1\n",
      "casosNovos                        0\n",
      "obitosAcumulado                   0\n",
      "obitosNovos                       0\n",
      "Recuperadosnovos                NaN\n",
      "emAcompanhamentoNovos           NaN\n",
      "Name: 2, dtype: object\n",
      "3 estado                          NaN\n",
      "data                     2020-02-28\n",
      "semanaEpi                         9\n",
      "casosAcumulado                    1\n",
      "casosNovos                        0\n",
      "obitosAcumulado                   0\n",
      "obitosNovos                       0\n",
      "Recuperadosnovos                NaN\n",
      "emAcompanhamentoNovos           NaN\n",
      "Name: 3, dtype: object\n",
      "4 estado                          NaN\n",
      "data                     2020-02-29\n",
      "semanaEpi                         9\n",
      "casosAcumulado                    2\n",
      "casosNovos                        1\n",
      "obitosAcumulado                   0\n",
      "obitosNovos                       0\n",
      "Recuperadosnovos                NaN\n",
      "emAcompanhamentoNovos           NaN\n",
      "Name: 4, dtype: object\n",
      "5 estado                          NaN\n",
      "data                     2020-03-01\n",
      "semanaEpi                        10\n",
      "casosAcumulado                    2\n",
      "casosNovos                        0\n",
      "obitosAcumulado                   0\n",
      "obitosNovos                       0\n",
      "Recuperadosnovos                NaN\n",
      "emAcompanhamentoNovos           NaN\n",
      "Name: 5, dtype: object\n",
      "6 estado                          NaN\n",
      "data                     2020-03-02\n",
      "semanaEpi                        10\n",
      "casosAcumulado                    2\n",
      "casosNovos                        0\n",
      "obitosAcumulado                   0\n",
      "obitosNovos                       0\n",
      "Recuperadosnovos                NaN\n",
      "emAcompanhamentoNovos           NaN\n",
      "Name: 6, dtype: object\n",
      "7 estado                          NaN\n",
      "data                     2020-03-03\n",
      "semanaEpi                        10\n",
      "casosAcumulado                    2\n",
      "casosNovos                        0\n",
      "obitosAcumulado                   0\n",
      "obitosNovos                       0\n",
      "Recuperadosnovos                NaN\n",
      "emAcompanhamentoNovos           NaN\n",
      "Name: 7, dtype: object\n",
      "8 estado                          NaN\n",
      "data                     2020-03-04\n",
      "semanaEpi                        10\n",
      "casosAcumulado                    3\n",
      "casosNovos                        1\n",
      "obitosAcumulado                   0\n",
      "obitosNovos                       0\n",
      "Recuperadosnovos                NaN\n",
      "emAcompanhamentoNovos           NaN\n",
      "Name: 8, dtype: object\n",
      "9 estado                          NaN\n",
      "data                     2020-03-05\n",
      "semanaEpi                        10\n",
      "casosAcumulado                    7\n",
      "casosNovos                        4\n",
      "obitosAcumulado                   0\n",
      "obitosNovos                       0\n",
      "Recuperadosnovos                NaN\n",
      "emAcompanhamentoNovos           NaN\n",
      "Name: 9, dtype: object\n"
     ]
    }
   ],
   "source": [
    "# Percorrendo o dataframe e imprimindo o indice e cada linha\n",
    "for indice, linha in dataset.head(10).iterrows():\n",
    "    print(indice,linha)"
   ]
  },
  {
   "cell_type": "code",
   "execution_count": 15,
   "metadata": {},
   "outputs": [],
   "source": [
    "dataset=dataset.loc[dataset['estado']=='SP']"
   ]
  },
  {
   "cell_type": "code",
   "execution_count": 16,
   "metadata": {},
   "outputs": [
    {
     "name": "stdout",
     "output_type": "stream",
     "text": [
      "4920 SP 2020-02-25 0\n",
      "4921 SP 2020-02-26 1\n",
      "4922 SP 2020-02-27 0\n",
      "4923 SP 2020-02-28 0\n",
      "4924 SP 2020-02-29 1\n",
      "4925 SP 2020-03-01 0\n",
      "4926 SP 2020-03-02 0\n",
      "4927 SP 2020-03-03 0\n",
      "4928 SP 2020-03-04 1\n",
      "4929 SP 2020-03-05 3\n",
      "4930 SP 2020-03-06 4\n",
      "4931 SP 2020-03-07 3\n",
      "4932 SP 2020-03-08 3\n",
      "4933 SP 2020-03-09 0\n",
      "4934 SP 2020-03-10 3\n",
      "4935 SP 2020-03-11 11\n",
      "4936 SP 2020-03-12 12\n",
      "4937 SP 2020-03-13 14\n",
      "4938 SP 2020-03-14 9\n",
      "4939 SP 2020-03-15 71\n"
     ]
    }
   ],
   "source": [
    "# Percorrendo o dataframe e imprimindo o indice de cada linha\n",
    "for indice, linha in dataset.head(20).iterrows():\n",
    "    print(indice,linha['estado'],linha['data'],linha['casosNovos'])"
   ]
  },
  {
   "cell_type": "code",
   "execution_count": 17,
   "metadata": {},
   "outputs": [
    {
     "data": {
      "text/plain": [
       "4920     9\n",
       "4921     9\n",
       "4922     9\n",
       "4923     9\n",
       "4924     9\n",
       "4925    10\n",
       "4926    10\n",
       "4927    10\n",
       "4928    10\n",
       "4929    10\n",
       "Name: semanaEpi, dtype: int64"
      ]
     },
     "execution_count": 17,
     "metadata": {},
     "output_type": "execute_result"
    }
   ],
   "source": [
    "dataset.semanaEpi.head(10)"
   ]
  },
  {
   "cell_type": "code",
   "execution_count": 18,
   "metadata": {},
   "outputs": [],
   "source": [
    "# Percorrendo o dataframe e atualizando linhas de um dataframe\n",
    "# Atualiza o valor da coluna semanaEpi somando seu valor a 1\n",
    "# É preciso usar o método at para atualizar o dataframe\n",
    "for indice, linha in dataset.head(10).iterrows():\n",
    "      dataset.at[indice, 'semanaEpi'] = linha['semanaEpi'] + 1"
   ]
  },
  {
   "cell_type": "code",
   "execution_count": 19,
   "metadata": {},
   "outputs": [
    {
     "data": {
      "text/plain": [
       "4920    10\n",
       "4921    10\n",
       "4922    10\n",
       "4923    10\n",
       "4924    10\n",
       "4925    11\n",
       "4926    11\n",
       "4927    11\n",
       "4928    11\n",
       "4929    11\n",
       "Name: semanaEpi, dtype: int64"
      ]
     },
     "execution_count": 19,
     "metadata": {},
     "output_type": "execute_result"
    }
   ],
   "source": [
    "dataset.semanaEpi.head(10)"
   ]
  },
  {
   "cell_type": "markdown",
   "metadata": {},
   "source": [
    "# Método itertuples() percorre as linhas e índices em formato de tuplas"
   ]
  },
  {
   "cell_type": "markdown",
   "metadata": {},
   "source": [
    "Costuma ser mais rápido que o iterrows()"
   ]
  },
  {
   "cell_type": "code",
   "execution_count": 20,
   "metadata": {},
   "outputs": [
    {
     "name": "stdout",
     "output_type": "stream",
     "text": [
      "Pandas(Index=4920, estado='SP', data='2020-02-25', semanaEpi=10, casosAcumulado=0, casosNovos=0, obitosAcumulado=0, obitosNovos=0, Recuperadosnovos=nan, emAcompanhamentoNovos=nan)\n",
      "Pandas(Index=4921, estado='SP', data='2020-02-26', semanaEpi=10, casosAcumulado=1, casosNovos=1, obitosAcumulado=0, obitosNovos=0, Recuperadosnovos=nan, emAcompanhamentoNovos=nan)\n",
      "Pandas(Index=4922, estado='SP', data='2020-02-27', semanaEpi=10, casosAcumulado=1, casosNovos=0, obitosAcumulado=0, obitosNovos=0, Recuperadosnovos=nan, emAcompanhamentoNovos=nan)\n",
      "Pandas(Index=4923, estado='SP', data='2020-02-28', semanaEpi=10, casosAcumulado=1, casosNovos=0, obitosAcumulado=0, obitosNovos=0, Recuperadosnovos=nan, emAcompanhamentoNovos=nan)\n",
      "Pandas(Index=4924, estado='SP', data='2020-02-29', semanaEpi=10, casosAcumulado=2, casosNovos=1, obitosAcumulado=0, obitosNovos=0, Recuperadosnovos=nan, emAcompanhamentoNovos=nan)\n",
      "Pandas(Index=4925, estado='SP', data='2020-03-01', semanaEpi=11, casosAcumulado=2, casosNovos=0, obitosAcumulado=0, obitosNovos=0, Recuperadosnovos=nan, emAcompanhamentoNovos=nan)\n",
      "Pandas(Index=4926, estado='SP', data='2020-03-02', semanaEpi=11, casosAcumulado=2, casosNovos=0, obitosAcumulado=0, obitosNovos=0, Recuperadosnovos=nan, emAcompanhamentoNovos=nan)\n",
      "Pandas(Index=4927, estado='SP', data='2020-03-03', semanaEpi=11, casosAcumulado=2, casosNovos=0, obitosAcumulado=0, obitosNovos=0, Recuperadosnovos=nan, emAcompanhamentoNovos=nan)\n",
      "Pandas(Index=4928, estado='SP', data='2020-03-04', semanaEpi=11, casosAcumulado=3, casosNovos=1, obitosAcumulado=0, obitosNovos=0, Recuperadosnovos=nan, emAcompanhamentoNovos=nan)\n",
      "Pandas(Index=4929, estado='SP', data='2020-03-05', semanaEpi=11, casosAcumulado=6, casosNovos=3, obitosAcumulado=0, obitosNovos=0, Recuperadosnovos=nan, emAcompanhamentoNovos=nan)\n"
     ]
    }
   ],
   "source": [
    "for linha in dataset.head(10).itertuples():\n",
    "    print(linha)"
   ]
  },
  {
   "cell_type": "code",
   "execution_count": 21,
   "metadata": {},
   "outputs": [
    {
     "name": "stdout",
     "output_type": "stream",
     "text": [
      "SP 2020-02-25 0\n",
      "SP 2020-02-26 1\n",
      "SP 2020-02-27 0\n",
      "SP 2020-02-28 0\n",
      "SP 2020-02-29 1\n",
      "SP 2020-03-01 0\n",
      "SP 2020-03-02 0\n",
      "SP 2020-03-03 0\n",
      "SP 2020-03-04 1\n",
      "SP 2020-03-05 3\n"
     ]
    }
   ],
   "source": [
    "for linha in dataset.head(10).itertuples():\n",
    "    print(linha.estado,linha.data,linha.casosNovos)"
   ]
  },
  {
   "cell_type": "code",
   "execution_count": null,
   "metadata": {},
   "outputs": [],
   "source": []
  }
 ],
 "metadata": {
  "colab": {
   "name": "Coronavirus.ipynb",
   "provenance": []
  },
  "kernelspec": {
   "display_name": "Python 3",
   "language": "python",
   "name": "python3"
  },
  "language_info": {
   "codemirror_mode": {
    "name": "ipython",
    "version": 3
   },
   "file_extension": ".py",
   "mimetype": "text/x-python",
   "name": "python",
   "nbconvert_exporter": "python",
   "pygments_lexer": "ipython3",
   "version": "3.8.5"
  }
 },
 "nbformat": 4,
 "nbformat_minor": 1
}
