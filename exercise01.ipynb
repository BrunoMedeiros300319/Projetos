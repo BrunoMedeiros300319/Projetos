{
 "metadata": {
  "language_info": {
   "codemirror_mode": {
    "name": "ipython",
    "version": 3
   },
   "file_extension": ".py",
   "mimetype": "text/x-python",
   "name": "python",
   "nbconvert_exporter": "python",
   "pygments_lexer": "ipython3",
   "version": "3.8.5-final"
  },
  "orig_nbformat": 2,
  "kernelspec": {
   "name": "python38564bit4f5acb9cc59445f4913b2ccb9189ac95",
   "display_name": "Python 3.8.5 64-bit",
   "language": "python"
  }
 },
 "nbformat": 4,
 "nbformat_minor": 2,
 "cells": [
  {
   "source": [
    "# Aula 01 (2021-06-01)\n",
    "- Importação da biblioteca pandas e criação do DataFrame"
   ],
   "cell_type": "markdown",
   "metadata": {}
  },
  {
   "cell_type": "code",
   "execution_count": 6,
   "metadata": {},
   "outputs": [],
   "source": [
    "import pandas as pd\n",
    "df = pd.read_csv('datasets/kc_house_data.csv')"
   ]
  },
  {
   "source": [
    "## Há duplicatas de ids?\n",
    "- Os IDs são valores únicos para cada casa, não sendo possível que existam mais de uma casa com mesmo ID. \n",
    "- Para fazer essa verificação, a biblioteca pandas possui um método que facilita esse processo"
   ],
   "cell_type": "markdown",
   "metadata": {}
  },
  {
   "cell_type": "code",
   "execution_count": 12,
   "metadata": {},
   "outputs": [
    {
     "output_type": "execute_result",
     "data": {
      "text/plain": [
       "False    21436\n",
       "True       177\n",
       "Name: id, dtype: int64"
      ]
     },
     "metadata": {},
     "execution_count": 12
    }
   ],
   "source": [
    "df['id'].duplicated().value_counts()"
   ]
  },
  {
   "source": [
    "- Com isso, verificamos que existem 177 duplicatas e 21436 IDs únicos;\n",
    "- É possível que as duplicatas existam porque o preço de alguns imóveis foram atualizados e os valores antigos não foram deletados."
   ],
   "cell_type": "markdown",
   "metadata": {}
  },
  {
   "cell_type": "code",
   "execution_count": 15,
   "metadata": {},
   "outputs": [],
   "source": [
    "df.drop_duplicates(subset='id', keep='last', inplace=True)"
   ]
  },
  {
   "source": [
    "## Questão 1: Quantas casas estão disponíveis para compra?"
   ],
   "cell_type": "markdown",
   "metadata": {}
  },
  {
   "cell_type": "code",
   "execution_count": 17,
   "metadata": {},
   "outputs": [
    {
     "output_type": "execute_result",
     "data": {
      "text/plain": [
       "21436"
      ]
     },
     "metadata": {},
     "execution_count": 17
    }
   ],
   "source": [
    "df.shape[0]"
   ]
  },
  {
   "source": [
    "**Resposta:** 21436 imóveis estão disponíveis para compra."
   ],
   "cell_type": "markdown",
   "metadata": {}
  },
  {
   "source": [
    "## Questão 2: Quantos atributos os imóveis possuem?"
   ],
   "cell_type": "markdown",
   "metadata": {}
  },
  {
   "cell_type": "code",
   "execution_count": 18,
   "metadata": {},
   "outputs": [
    {
     "output_type": "execute_result",
     "data": {
      "text/plain": [
       "21"
      ]
     },
     "metadata": {},
     "execution_count": 18
    }
   ],
   "source": [
    "df.shape[1]"
   ]
  },
  {
   "source": [
    "**Resposta:** 21 atributos."
   ],
   "cell_type": "markdown",
   "metadata": {}
  },
  {
   "source": [
    "## Questão 3: Quais são esses atributos?"
   ],
   "cell_type": "markdown",
   "metadata": {}
  },
  {
   "cell_type": "code",
   "execution_count": 21,
   "metadata": {},
   "outputs": [
    {
     "output_type": "stream",
     "name": "stdout",
     "text": [
      "id, date, price, bedrooms, bathrooms, sqft_living, sqft_lot, floors, waterfront, view, condition, grade, sqft_above, sqft_basement, yr_built, yr_renovated, zipcode, lat, long, sqft_living15, sqft_lot15\n"
     ]
    }
   ],
   "source": [
    "print(', '.join(df.columns))"
   ]
  },
  {
   "source": [
    "**Resposta:** Os atributos são: id, date, price, bedrooms, bathrooms, sqft_living, sqft_lot, floors, waterfront, view, condition, grade, sqft_above, sqft_basement, yr_built, yr_renovated, zipcode, lat, long, sqft_living15, sqft_lot15"
   ],
   "cell_type": "markdown",
   "metadata": {}
  },
  {
   "source": [
    "## Questão 4: Qual é o ID da casa mais cara?"
   ],
   "cell_type": "markdown",
   "metadata": {}
  },
  {
   "cell_type": "code",
   "execution_count": 22,
   "metadata": {},
   "outputs": [
    {
     "output_type": "execute_result",
     "data": {
      "text/plain": [
       "6762700020"
      ]
     },
     "metadata": {},
     "execution_count": 22
    }
   ],
   "source": [
    "df.loc[df['price'] == max(df['price']),'id'].item()"
   ]
  },
  {
   "source": [
    "**Resposta:** O ID da casa mais cara é 6762700020"
   ],
   "cell_type": "markdown",
   "metadata": {}
  },
  {
   "source": [
    "## Questão 5: Qual o ID da casa com maior número de quartos?"
   ],
   "cell_type": "markdown",
   "metadata": {}
  },
  {
   "cell_type": "code",
   "execution_count": 23,
   "metadata": {},
   "outputs": [
    {
     "output_type": "execute_result",
     "data": {
      "text/plain": [
       "2402100895"
      ]
     },
     "metadata": {},
     "execution_count": 23
    }
   ],
   "source": [
    "df.loc[df['bedrooms'] == max(df['bedrooms']),'id'].item()"
   ]
  },
  {
   "source": [
    "**Resposta:** O ID da casa com maior número de quartos é 2402100895"
   ],
   "cell_type": "markdown",
   "metadata": {}
  },
  {
   "source": [
    "## Questão 6: Qual a soma de todos os quartos dos imóveis a venda?"
   ],
   "cell_type": "markdown",
   "metadata": {}
  },
  {
   "cell_type": "code",
   "execution_count": 24,
   "metadata": {},
   "outputs": [
    {
     "output_type": "execute_result",
     "data": {
      "text/plain": [
       "72273"
      ]
     },
     "metadata": {},
     "execution_count": 24
    }
   ],
   "source": [
    "df.loc[:,'bedrooms'].sum()"
   ]
  },
  {
   "source": [
    "**Resposta:** A soma de quartos é de 72273"
   ],
   "cell_type": "markdown",
   "metadata": {}
  },
  {
   "source": [
    "## Questão 7: Número de casas com 2 banheiros"
   ],
   "cell_type": "markdown",
   "metadata": {}
  },
  {
   "cell_type": "code",
   "execution_count": 25,
   "metadata": {},
   "outputs": [
    {
     "output_type": "execute_result",
     "data": {
      "text/plain": [
       "1913"
      ]
     },
     "metadata": {},
     "execution_count": 25
    }
   ],
   "source": [
    "df.loc[df['bathrooms'] == 2,'id'].value_counts().sum()"
   ]
  },
  {
   "source": [
    "**Resposta:** 1913 imóveis possuem 2 banheiros"
   ],
   "cell_type": "markdown",
   "metadata": {}
  },
  {
   "source": [
    "## Questão 8: Qual o preço médio dos imóveis?"
   ],
   "cell_type": "markdown",
   "metadata": {}
  },
  {
   "cell_type": "code",
   "execution_count": 26,
   "metadata": {},
   "outputs": [
    {
     "output_type": "execute_result",
     "data": {
      "text/plain": [
       "541649.962726255"
      ]
     },
     "metadata": {},
     "execution_count": 26
    }
   ],
   "source": [
    "df['price'].mean()"
   ]
  },
  {
   "source": [
    "**Resposta:** O preço médio é de US$541649.96"
   ],
   "cell_type": "markdown",
   "metadata": {}
  },
  {
   "source": [
    "## Questão 9: Qual o preço médio de casas com 2 banheiros?"
   ],
   "cell_type": "markdown",
   "metadata": {}
  },
  {
   "cell_type": "code",
   "execution_count": 27,
   "metadata": {},
   "outputs": [
    {
     "output_type": "execute_result",
     "data": {
      "text/plain": [
       "459307.013591218"
      ]
     },
     "metadata": {},
     "execution_count": 27
    }
   ],
   "source": [
    "df.loc[df['bathrooms'] == 2, 'price'].mean()"
   ]
  },
  {
   "source": [
    "**Resposta:** O preço médio de casas com 2 banheiros é de US$459307.01"
   ],
   "cell_type": "markdown",
   "metadata": {}
  },
  {
   "source": [
    "## Questão 10: Qual o preço mínimo de imóveis com 3 quartos?"
   ],
   "cell_type": "markdown",
   "metadata": {}
  },
  {
   "cell_type": "code",
   "execution_count": 28,
   "metadata": {},
   "outputs": [
    {
     "output_type": "execute_result",
     "data": {
      "text/plain": [
       "89000.0"
      ]
     },
     "metadata": {},
     "execution_count": 28
    }
   ],
   "source": [
    "df.loc[df['bedrooms'] == 3, 'price'].min()"
   ]
  },
  {
   "source": [
    "**Resposta:** O preço mínimo para imóveis com 3 quartos é de US$89000.00"
   ],
   "cell_type": "markdown",
   "metadata": {}
  },
  {
   "source": [
    "## Questão 11: Quantas casas possuem mais de 300 metros quadrados (m²)?"
   ],
   "cell_type": "markdown",
   "metadata": {}
  },
  {
   "source": [
    "- Pra obter o resultado, inicialmente é necessário realizar a conversão de pés quadrados (sqft) para metros quadrados. Para isso foi criada a função sqfeet2sqmeter."
   ],
   "cell_type": "markdown",
   "metadata": {}
  },
  {
   "cell_type": "code",
   "execution_count": 33,
   "metadata": {},
   "outputs": [],
   "source": [
    "def sqfeet2sqmeter(area):\n",
    "    return area/(3.28084**2)"
   ]
  },
  {
   "cell_type": "code",
   "execution_count": 34,
   "metadata": {},
   "outputs": [
    {
     "output_type": "execute_result",
     "data": {
      "text/plain": [
       "2251"
      ]
     },
     "metadata": {},
     "execution_count": 34
    }
   ],
   "source": [
    "df['sqm_living'] = sqfeet2sqmeter(df['sqft_living'][:])\n",
    "df.loc[df['sqm_living'] > 300, 'sqm_living'].value_counts().sum()"
   ]
  },
  {
   "source": [
    "**Resposta:** 2251 imóveis possuem mais de 300 m²"
   ],
   "cell_type": "markdown",
   "metadata": {}
  },
  {
   "source": [
    "## Questão 12: Quantas casas possuem mais de 2 andares?"
   ],
   "cell_type": "markdown",
   "metadata": {}
  },
  {
   "cell_type": "code",
   "execution_count": 35,
   "metadata": {},
   "outputs": [
    {
     "output_type": "execute_result",
     "data": {
      "text/plain": [
       "780"
      ]
     },
     "metadata": {},
     "execution_count": 35
    }
   ],
   "source": [
    "df.loc[df['floors'] > 2, 'floors'].value_counts().sum()"
   ]
  },
  {
   "source": [
    "**Resposta:** 780 imóveis possuem mais de 2 andares."
   ],
   "cell_type": "markdown",
   "metadata": {}
  },
  {
   "source": [
    "## Questão 13: Quantas casas tem vista para o mar?"
   ],
   "cell_type": "markdown",
   "metadata": {}
  },
  {
   "cell_type": "code",
   "execution_count": 37,
   "metadata": {},
   "outputs": [
    {
     "output_type": "execute_result",
     "data": {
      "text/plain": [
       "163"
      ]
     },
     "metadata": {},
     "execution_count": 37
    }
   ],
   "source": [
    "df.loc[df['waterfront'] != 0, 'waterfront'].value_counts().item()"
   ]
  },
  {
   "source": [
    "**Resposta:** 163 imóveis possuem vista para o mar."
   ],
   "cell_type": "markdown",
   "metadata": {}
  },
  {
   "source": [
    "## Questão 14: Quantas casas possuem vista para o mar e 3 quartos?"
   ],
   "cell_type": "markdown",
   "metadata": {}
  },
  {
   "cell_type": "code",
   "execution_count": 39,
   "metadata": {},
   "outputs": [
    {
     "output_type": "execute_result",
     "data": {
      "text/plain": [
       "64"
      ]
     },
     "metadata": {},
     "execution_count": 39
    }
   ],
   "source": [
    "df.loc[(df['waterfront'] != 0) & (df['bedrooms'] == 3), 'id'].value_counts().sum()"
   ]
  },
  {
   "source": [
    "**Resposta:** 64 imóveis possuem vista para o mar e 3 quartos."
   ],
   "cell_type": "markdown",
   "metadata": {}
  },
  {
   "source": [
    "## Questão 15: Quantas casas possuem mais de 300 m² de sala de estar e mais de 2 banheiros?"
   ],
   "cell_type": "markdown",
   "metadata": {}
  },
  {
   "cell_type": "code",
   "execution_count": 40,
   "metadata": {},
   "outputs": [
    {
     "output_type": "execute_result",
     "data": {
      "text/plain": [
       "2194"
      ]
     },
     "metadata": {},
     "execution_count": 40
    }
   ],
   "source": [
    "df.loc[(df['sqm_living'] > 300) & (df['bathrooms'] > 2), 'id'].value_counts().sum()"
   ]
  },
  {
   "source": [
    "**Resposta:** 2194 casas possuem mais de 300 m² de sala de estar e mais de 2 banheiros."
   ],
   "cell_type": "markdown",
   "metadata": {}
  }
 ]
}